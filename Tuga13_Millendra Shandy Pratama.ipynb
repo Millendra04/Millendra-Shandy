{
  "nbformat": 4,
  "nbformat_minor": 0,
  "metadata": {
    "colab": {
      "name": "Tugas 13_Kartika Praty Dina Zaam .ipynb",
      "provenance": [],
      "collapsed_sections": [],
      "include_colab_link": true
    },
    "kernelspec": {
      "name": "python3",
      "display_name": "Python 3"
    }
  },
  "cells": [
    {
      "cell_type": "markdown",
      "metadata": {
        "id": "view-in-github",
        "colab_type": "text"
      },
      "source": [
        "<a href=\"https://colab.research.google.com/github/Millendra04/Millendra-Shandy/blob/main/Tuga13_Millendra%20Shandy%20Pratama.ipynb\" target=\"_parent\"><img src=\"https://colab.research.google.com/assets/colab-badge.svg\" alt=\"Open In Colab\"/></a>"
      ]
    },
    {
      "cell_type": "code",
      "metadata": {
        "id": "erHnPEGX_z5D"
      },
      "source": [
        "import numpy as np\r\n",
        "import matplotlib.pyplot as plt"
      ],
      "execution_count": null,
      "outputs": []
    },
    {
      "cell_type": "code",
      "metadata": {
        "id": "DUnSR8jpBBbF",
        "colab": {
          "base_uri": "https://localhost:8080/"
        },
        "outputId": "6360a98a-b66d-461f-86d6-fab52c79b1f0"
      },
      "source": [
        "np.zeros(4)"
      ],
      "execution_count": null,
      "outputs": [
        {
          "output_type": "execute_result",
          "data": {
            "text/plain": [
              "array([0., 0., 0., 0.])"
            ]
          },
          "metadata": {
            "tags": []
          },
          "execution_count": 101
        }
      ]
    },
    {
      "cell_type": "code",
      "metadata": {
        "colab": {
          "base_uri": "https://localhost:8080/"
        },
        "id": "n8YemX7NQXe2",
        "outputId": "9ce669e4-9487-431e-b0ff-014fa250b032"
      },
      "source": [
        "np.ones(3)"
      ],
      "execution_count": null,
      "outputs": [
        {
          "output_type": "execute_result",
          "data": {
            "text/plain": [
              "array([1., 1., 1.])"
            ]
          },
          "metadata": {
            "tags": []
          },
          "execution_count": 102
        }
      ]
    },
    {
      "cell_type": "code",
      "metadata": {
        "colab": {
          "base_uri": "https://localhost:8080/"
        },
        "id": "6cAHREORQZDV",
        "outputId": "ac354574-3aeb-45ed-fac7-e5cd95499e29"
      },
      "source": [
        "np.zeros((3,4))"
      ],
      "execution_count": null,
      "outputs": [
        {
          "output_type": "execute_result",
          "data": {
            "text/plain": [
              "array([[0., 0., 0., 0.],\n",
              "       [0., 0., 0., 0.],\n",
              "       [0., 0., 0., 0.]])"
            ]
          },
          "metadata": {
            "tags": []
          },
          "execution_count": 103
        }
      ]
    },
    {
      "cell_type": "code",
      "metadata": {
        "colab": {
          "base_uri": "https://localhost:8080/"
        },
        "id": "32CIHJdRQazV",
        "outputId": "3cd15bba-cf1b-4343-8381-709e06adc442"
      },
      "source": [
        "np.ones((5,2))"
      ],
      "execution_count": null,
      "outputs": [
        {
          "output_type": "execute_result",
          "data": {
            "text/plain": [
              "array([[1., 1.],\n",
              "       [1., 1.],\n",
              "       [1., 1.],\n",
              "       [1., 1.],\n",
              "       [1., 1.]])"
            ]
          },
          "metadata": {
            "tags": []
          },
          "execution_count": 104
        }
      ]
    },
    {
      "cell_type": "code",
      "metadata": {
        "colab": {
          "base_uri": "https://localhost:8080/"
        },
        "id": "HxBRk53KQcU4",
        "outputId": "d286368b-cbb7-44e1-aa4e-9ac30965c667"
      },
      "source": [
        "np.arange(10)"
      ],
      "execution_count": null,
      "outputs": [
        {
          "output_type": "execute_result",
          "data": {
            "text/plain": [
              "array([0, 1, 2, 3, 4, 5, 6, 7, 8, 9])"
            ]
          },
          "metadata": {
            "tags": []
          },
          "execution_count": 105
        }
      ]
    },
    {
      "cell_type": "code",
      "metadata": {
        "colab": {
          "base_uri": "https://localhost:8080/"
        },
        "id": "imqqwLdvQd8h",
        "outputId": "1032a679-a8fe-45cf-b8d9-84ce19807c36"
      },
      "source": [
        "np.arange(2,10)"
      ],
      "execution_count": null,
      "outputs": [
        {
          "output_type": "execute_result",
          "data": {
            "text/plain": [
              "array([2, 3, 4, 5, 6, 7, 8, 9])"
            ]
          },
          "metadata": {
            "tags": []
          },
          "execution_count": 106
        }
      ]
    },
    {
      "cell_type": "code",
      "metadata": {
        "colab": {
          "base_uri": "https://localhost:8080/"
        },
        "id": "cc7VxK2NQfsV",
        "outputId": "f36c4b77-c798-44a0-d33e-3b4110253310"
      },
      "source": [
        "np.arange(3,47,4)"
      ],
      "execution_count": null,
      "outputs": [
        {
          "output_type": "execute_result",
          "data": {
            "text/plain": [
              "array([ 3,  7, 11, 15, 19, 23, 27, 31, 35, 39, 43])"
            ]
          },
          "metadata": {
            "tags": []
          },
          "execution_count": 107
        }
      ]
    },
    {
      "cell_type": "code",
      "metadata": {
        "colab": {
          "base_uri": "https://localhost:8080/"
        },
        "id": "MU5uF2WhQhUa",
        "outputId": "9acf579e-0286-45b7-c818-1f632e41eab2"
      },
      "source": [
        "np.arange(4,5,0.2)"
      ],
      "execution_count": null,
      "outputs": [
        {
          "output_type": "execute_result",
          "data": {
            "text/plain": [
              "array([4. , 4.2, 4.4, 4.6, 4.8])"
            ]
          },
          "metadata": {
            "tags": []
          },
          "execution_count": 108
        }
      ]
    },
    {
      "cell_type": "code",
      "metadata": {
        "colab": {
          "base_uri": "https://localhost:8080/"
        },
        "id": "Pl8qQ6EPQiyQ",
        "outputId": "bd5223b7-4c11-4c07-c331-5658de52d784"
      },
      "source": [
        "np.arange(4,5,0.1)"
      ],
      "execution_count": null,
      "outputs": [
        {
          "output_type": "execute_result",
          "data": {
            "text/plain": [
              "array([4. , 4.1, 4.2, 4.3, 4.4, 4.5, 4.6, 4.7, 4.8, 4.9])"
            ]
          },
          "metadata": {
            "tags": []
          },
          "execution_count": 109
        }
      ]
    },
    {
      "cell_type": "code",
      "metadata": {
        "colab": {
          "base_uri": "https://localhost:8080/"
        },
        "id": "pNYedqpLQkSJ",
        "outputId": "f036c8c1-ec27-400f-80e9-8cd7f72fad98"
      },
      "source": [
        "np.arange(20,5,-5)"
      ],
      "execution_count": null,
      "outputs": [
        {
          "output_type": "execute_result",
          "data": {
            "text/plain": [
              "array([20, 15, 10])"
            ]
          },
          "metadata": {
            "tags": []
          },
          "execution_count": 110
        }
      ]
    },
    {
      "cell_type": "code",
      "metadata": {
        "colab": {
          "base_uri": "https://localhost:8080/"
        },
        "id": "zFuyCcNTQmMI",
        "outputId": "6009b6de-e77f-41db-f3aa-764ee4f54d9e"
      },
      "source": [
        "np.linspace(2,10,4)"
      ],
      "execution_count": null,
      "outputs": [
        {
          "output_type": "execute_result",
          "data": {
            "text/plain": [
              "array([ 2.        ,  4.66666667,  7.33333333, 10.        ])"
            ]
          },
          "metadata": {
            "tags": []
          },
          "execution_count": 111
        }
      ]
    },
    {
      "cell_type": "code",
      "metadata": {
        "colab": {
          "base_uri": "https://localhost:8080/"
        },
        "id": "3ezclux0QnrB",
        "outputId": "e7d82455-d904-4b82-c93d-de122d029738"
      },
      "source": [
        "np.linspace(2,10,4)"
      ],
      "execution_count": null,
      "outputs": [
        {
          "output_type": "execute_result",
          "data": {
            "text/plain": [
              "array([ 2.        ,  4.66666667,  7.33333333, 10.        ])"
            ]
          },
          "metadata": {
            "tags": []
          },
          "execution_count": 112
        }
      ]
    },
    {
      "cell_type": "code",
      "metadata": {
        "colab": {
          "base_uri": "https://localhost:8080/"
        },
        "id": "zRNICP6_Qq2w",
        "outputId": "9b4d3991-3c9a-4e6a-d5ae-9d1ef7a4bb11"
      },
      "source": [
        "np.linspace(2,20,4)"
      ],
      "execution_count": null,
      "outputs": [
        {
          "output_type": "execute_result",
          "data": {
            "text/plain": [
              "array([ 2.,  8., 14., 20.])"
            ]
          },
          "metadata": {
            "tags": []
          },
          "execution_count": 113
        }
      ]
    },
    {
      "cell_type": "code",
      "metadata": {
        "id": "WIRLgHAGQs_5"
      },
      "source": [
        "e=np.arange(0,20,2)"
      ],
      "execution_count": null,
      "outputs": []
    },
    {
      "cell_type": "code",
      "metadata": {
        "colab": {
          "base_uri": "https://localhost:8080/"
        },
        "id": "B37QVXXfQtgI",
        "outputId": "2032cb97-d7ed-4b8a-90cd-7aeb9bf7e92d"
      },
      "source": [
        "len(e)"
      ],
      "execution_count": null,
      "outputs": [
        {
          "output_type": "execute_result",
          "data": {
            "text/plain": [
              "10"
            ]
          },
          "metadata": {
            "tags": []
          },
          "execution_count": 115
        }
      ]
    },
    {
      "cell_type": "code",
      "metadata": {
        "colab": {
          "base_uri": "https://localhost:8080/"
        },
        "id": "W3brR38jQveS",
        "outputId": "85868bc6-2795-43d4-f99b-a232bfd5387a"
      },
      "source": [
        "e.reshape(5,2)"
      ],
      "execution_count": null,
      "outputs": [
        {
          "output_type": "execute_result",
          "data": {
            "text/plain": [
              "array([[ 0,  2],\n",
              "       [ 4,  6],\n",
              "       [ 8, 10],\n",
              "       [12, 14],\n",
              "       [16, 18]])"
            ]
          },
          "metadata": {
            "tags": []
          },
          "execution_count": 116
        }
      ]
    },
    {
      "cell_type": "code",
      "metadata": {
        "colab": {
          "base_uri": "https://localhost:8080/"
        },
        "id": "jg4NLV5kQw5H",
        "outputId": "15376834-b606-445b-b319-f107076c5a4f"
      },
      "source": [
        "e.reshape(2,5)"
      ],
      "execution_count": null,
      "outputs": [
        {
          "output_type": "execute_result",
          "data": {
            "text/plain": [
              "array([[ 0,  2,  4,  6,  8],\n",
              "       [10, 12, 14, 16, 18]])"
            ]
          },
          "metadata": {
            "tags": []
          },
          "execution_count": 117
        }
      ]
    },
    {
      "cell_type": "code",
      "metadata": {
        "colab": {
          "base_uri": "https://localhost:8080/"
        },
        "id": "zPeJnzYKQyxw",
        "outputId": "81b2bfa7-2d12-4eaf-b5b5-911c80d501fd"
      },
      "source": [
        "print(e)"
      ],
      "execution_count": null,
      "outputs": [
        {
          "output_type": "stream",
          "text": [
            "[ 0  2  4  6  8 10 12 14 16 18]\n"
          ],
          "name": "stdout"
        }
      ]
    },
    {
      "cell_type": "code",
      "metadata": {
        "colab": {
          "base_uri": "https://localhost:8080/"
        },
        "id": "3_vgW_omQ0w6",
        "outputId": "d8737d2a-f0d5-4e2b-dfd3-d924c9cd8544"
      },
      "source": [
        "e[-2:]"
      ],
      "execution_count": null,
      "outputs": [
        {
          "output_type": "execute_result",
          "data": {
            "text/plain": [
              "array([16, 18])"
            ]
          },
          "metadata": {
            "tags": []
          },
          "execution_count": 119
        }
      ]
    },
    {
      "cell_type": "code",
      "metadata": {
        "id": "U_r9MTWoQ2KK"
      },
      "source": [
        "f=e.reshape(5,2)"
      ],
      "execution_count": null,
      "outputs": []
    },
    {
      "cell_type": "code",
      "metadata": {
        "colab": {
          "base_uri": "https://localhost:8080/"
        },
        "id": "LpGzaFWiQ3qQ",
        "outputId": "c5340143-114e-4f28-d192-f90af20756a4"
      },
      "source": [
        "print(f)"
      ],
      "execution_count": null,
      "outputs": [
        {
          "output_type": "stream",
          "text": [
            "[[ 0  2]\n",
            " [ 4  6]\n",
            " [ 8 10]\n",
            " [12 14]\n",
            " [16 18]]\n"
          ],
          "name": "stdout"
        }
      ]
    },
    {
      "cell_type": "code",
      "metadata": {
        "colab": {
          "base_uri": "https://localhost:8080/"
        },
        "id": "SKpky4iXQ5T0",
        "outputId": "c06bf89e-0f44-453b-c26a-234100d0e154"
      },
      "source": [
        "f[:]"
      ],
      "execution_count": null,
      "outputs": [
        {
          "output_type": "execute_result",
          "data": {
            "text/plain": [
              "array([[ 0,  2],\n",
              "       [ 4,  6],\n",
              "       [ 8, 10],\n",
              "       [12, 14],\n",
              "       [16, 18]])"
            ]
          },
          "metadata": {
            "tags": []
          },
          "execution_count": 122
        }
      ]
    },
    {
      "cell_type": "code",
      "metadata": {
        "colab": {
          "base_uri": "https://localhost:8080/"
        },
        "id": "uho6_SHXQ7IJ",
        "outputId": "9937c540-75a4-412e-c3bf-15cf28455b15"
      },
      "source": [
        "np.random.randint(1,20,10)"
      ],
      "execution_count": null,
      "outputs": [
        {
          "output_type": "execute_result",
          "data": {
            "text/plain": [
              "array([17, 12,  1,  3, 14, 14, 15,  4,  1,  9])"
            ]
          },
          "metadata": {
            "tags": []
          },
          "execution_count": 123
        }
      ]
    },
    {
      "cell_type": "code",
      "metadata": {
        "colab": {
          "base_uri": "https://localhost:8080/"
        },
        "id": "ea-dWvkeQ8nY",
        "outputId": "c59e8924-ac6f-4298-faaa-ef7542fba7f1"
      },
      "source": [
        "np.random.randn(3)"
      ],
      "execution_count": null,
      "outputs": [
        {
          "output_type": "execute_result",
          "data": {
            "text/plain": [
              "array([-0.75281248,  1.39999226,  1.32727818])"
            ]
          },
          "metadata": {
            "tags": []
          },
          "execution_count": 124
        }
      ]
    },
    {
      "cell_type": "code",
      "metadata": {
        "id": "MN2dad_GQ-ET"
      },
      "source": [
        "x=np.linspace(1,10,21)\r\n",
        "y=x**2\r\n",
        "y2=x**3"
      ],
      "execution_count": null,
      "outputs": []
    },
    {
      "cell_type": "code",
      "metadata": {
        "colab": {
          "base_uri": "https://localhost:8080/",
          "height": 295
        },
        "id": "eKDHstKgS9Bi",
        "outputId": "41d41f67-881c-422e-dc5b-86dfeeeda007"
      },
      "source": [
        "plt.figure()\r\n",
        "plt.plot(x,y,'r-x',label='Y1')\r\n",
        "plt.plot(x,y2,'g-o',label='Y2')\r\n",
        "plt.legend()\r\n",
        "plt.title('Contoh Kurva Python')\r\n",
        "plt.xlabel('Angka-X')\r\n",
        "plt.ylabel('Angka-Y')\r\n",
        "plt.show()"
      ],
      "execution_count": null,
      "outputs": [
        {
          "output_type": "display_data",
          "data": {
            "image/png": "[encoded data removed]",
            "text/plain": [
              "<Figure size 432x288 with 1 Axes>"
            ]
          },
          "metadata": {
            "tags": [],
            "needs_background": "light"
          }
        }
      ]
    },
    {
      "cell_type": "code",
      "metadata": {
        "id": "tw7H_9mkRBkZ"
      },
      "source": [
        "print (\"Millendra Shandy Pratama\")\r\n",
        "def cos(frek,tipe,ht,hr,d):\r\n",
        "  #frek = frekuensi (MHz),#tipe = urban, suburban, open,#ht = tinggi tower (meter),#hr = tinggi user (meter),#d = jarak (meter)\r\n",
        "    if frek in range(150,1501):\r\n",
        "        Ca=69.55\r\n",
        "        Cb=26.16\r\n",
        "    elif frek in range(1501,2001):\r\n",
        "        Ca=46.3\r\n",
        "        Cb=33.9\r\n",
        "    \r\n",
        "    if tipe=='urban' :\r\n",
        "        Cm=0\r\n",
        "    elif tipe=='suburban' :\r\n",
        "        Cm= -2*((np.log10((frek/28)**2))-5.4)\r\n",
        "    elif tipe=='open' :\r\n",
        "        Cm= -4.78*(np.log10(frek))+18.33*(np.log10(frek))-40.94\r\n",
        "    else :\r\n",
        "        Cm='tipe salah'\r\n",
        "    \r\n",
        "    ahr = (1.1*np.log10(frek)-0.7)*hr-(1.56*np.log10(frek)-1.8)\r\n",
        "    Lp = Ca+(Cb*np.log10(frek))-(13.83*np.log(ht))-ahr+((44.9-6.55*np.log10(ht))*np.log10(d))-Cm\r\n",
        "    \r\n",
        "    return Lp"
      ],
      "execution_count": null,
      "outputs": []
    },
    {
      "cell_type": "code",
      "metadata": {
        "colab": {
          "base_uri": "https://localhost:8080/"
        },
        "id": "PbOQhkWpRI6S",
        "outputId": "7ed7f860-9854-4945-b327-5e9781d3cf01"
      },
      "source": [
        "f=1800 #MHz\r\n",
        "loc='urban'\r\n",
        "tower=80 #m\r\n",
        "user=1.5 #m\r\n",
        "Dmin=200 #m\r\n",
        "Dmax=700 #m\r\n",
        "N=200 #titik\r\n",
        "D=np.random.randint(Dmin,Dmax,N)\r\n",
        "print(D)"
      ],
      "execution_count": null,
      "outputs": [
        {
          "output_type": "stream",
          "text": [
            "[279 435 444 467 385 698 462 306 336 469 676 380 671 274 342 403 307 290\n",
            " 600 603 574 460 521 245 655 211 410 533 299 696 260 233 204 315 515 359\n",
            " 598 241 329 450 437 459 256 430 546 590 360 625 491 481 445 277 577 657\n",
            " 311 309 594 291 208 403 453 383 416 280 470 493 241 324 444 672 651 641\n",
            " 524 523 317 203 677 660 436 535 698 469 459 386 471 624 234 563 261 612\n",
            " 659 591 228 201 684 562 453 315 472 388 290 354 683 628 636 693 611 281\n",
            " 218 617 480 426 616 436 673 231 415 470 464 423 538 565 528 654 510 205\n",
            " 274 570 313 387 636 569 367 220 481 575 567 550 460 633 619 388 229 319\n",
            " 397 577 589 272 318 521 393 640 383 237 224 441 459 542 297 515 628 680\n",
            " 350 340 294 241 688 249 601 640 460 493 434 559 339 488 563 253 313 400\n",
            " 540 265 609 332 656 620 652 358 242 620 305 505 531 597 396 362 573 620\n",
            " 471 401]\n"
          ],
          "name": "stdout"
        }
      ]
    },
    {
      "cell_type": "code",
      "metadata": {
        "colab": {
          "base_uri": "https://localhost:8080/"
        },
        "id": "wLUOALLJRK1q",
        "outputId": "930739e3-9e5c-4cbb-8101-9c4462430e10"
      },
      "source": [
        "GrafikUrban=cos(f,loc,tower,user,D)\r\n",
        "print(GrafikUrban)"
      ],
      "execution_count": null,
      "outputs": [
        {
          "output_type": "stream",
          "text": [
            "[174.32992186 180.5861024  180.87456785 181.58598899 178.8661348\n",
            " 187.24710481 181.43435956 175.63111439 176.94854466 181.64618668\n",
            " 186.79597859 178.68199836 186.69140322 174.07519091 177.19786511\n",
            " 179.50978046 175.67707279 174.87462457 185.11600572 185.18626141\n",
            " 184.49198175 181.37324781 183.12731614 172.49936498 186.35144736\n",
            " 170.39488001 179.75235389 183.44807925 175.30513732 187.20668516\n",
            " 173.3364174  171.79195756 169.91963656 176.03943972 182.96415327\n",
            " 177.88121175 185.06897316 172.26748753 176.65198134 181.06364771\n",
            " 180.65071828 181.34259222 173.11802175 180.42325391 183.78752308\n",
            " 184.87925665 177.92039464 185.69103403 182.29191895 182.00206845\n",
            " 180.90625794 174.22858158 184.56541147 186.39439323 175.85942145\n",
            " 175.76854219 184.9744343  174.92311425 170.19316433 179.50978046\n",
            " 181.15724431 178.79276882 179.95700017 174.3803199  181.67618932\n",
            " 182.34918016 172.26748753 176.43626138 180.87456785 186.7123805\n",
            " 186.26516079 186.04710322 183.20819429 183.18128647 176.12859342\n",
            " 169.85041658 186.81680082 186.45856755 180.61844739 183.50083675\n",
            " 187.24710481 181.64618668 181.34259222 178.902675   181.7061282\n",
            " 185.668478   171.85228415 184.21941631 173.39049132 185.39495023\n",
            " 186.43720858 184.90311142 171.48638728 169.71094774 186.96170094\n",
            " 184.19437411 181.15724431 176.03943972 181.73600358 178.97547226\n",
            " 174.87462457 177.68364557 186.94109196 185.75848621 185.9367954\n",
            " 187.14583739 185.37191467 174.43053827 170.85461155 185.5095663\n",
            " 181.97275265 180.29160587 185.48671757 180.61844739 186.73332658\n",
            " 171.67052372 179.92309826 181.67618932 181.49520734 180.19205607\n",
            " 183.57960436 184.26936756 183.31531448 186.32992522 182.82672547\n",
            " 169.98851806 174.07519091 184.39347619 175.94971816 178.93912065\n",
            " 185.9367954  184.36874179 178.19166482 170.98325388 182.00206845\n",
            " 184.51650088 184.31914231 183.89034279 181.37324781 185.87019368\n",
            " 185.55515287 178.97547226 171.54803393 176.2171864  179.29848294\n",
            " 184.56541147 184.85536142 173.97199457 176.17295956 183.12731614\n",
            " 179.15583628 186.02511066 178.79276882 172.03172909 171.23706683\n",
            " 180.77906757 181.34259222 183.68394734 175.21059846 182.96415327\n",
            " 185.75848621 186.87908348 177.52357297 177.11524764 175.06758974\n",
            " 172.26748753 187.04383667 172.72748718 185.13946324 186.02511066\n",
            " 181.37324781 182.34918016 180.55368296 184.11897926 177.07375648\n",
            " 182.20558832 184.21941631 172.9519738  175.94971816 179.40452789\n",
            " 183.63187246 173.6047348  185.32573025 176.77984519 186.37293666\n",
            " 185.57789095 186.28678204 177.84191957 172.32581571 185.57789095\n",
            " 175.58500555 182.68794368 183.3951234  185.04539786 179.26295647\n",
            " 177.99843493 184.46741986 185.57789095 181.7061282  179.43969953]\n"
          ],
          "name": "stdout"
        }
      ]
    },
    {
      "cell_type": "code",
      "metadata": {
        "id": "VNXRCt03RP9W"
      },
      "source": [
        "D_sorting=D[np.argsort(D)]\r\n",
        "Urban_sorting=GrafikUrban[np.argsort(D)]"
      ],
      "execution_count": null,
      "outputs": []
    },
    {
      "cell_type": "code",
      "metadata": {
        "colab": {
          "base_uri": "https://localhost:8080/"
        },
        "id": "3-jfu0T0RSGT",
        "outputId": "977675e7-bacc-413a-e4e5-ade66ed22e9e"
      },
      "source": [
        "f=1800 #MHz\r\n",
        "loc='suburban'\r\n",
        "tower=80 #m\r\n",
        "user=1.5 #m\r\n",
        "Dmin=200 #m\r\n",
        "Dmax=700 #m\r\n",
        "N=200 #titik\r\n",
        "A=np.random.randint(Dmin,Dmax,N)\r\n",
        "print(A)"
      ],
      "execution_count": null,
      "outputs": [
        {
          "output_type": "stream",
          "text": [
            "[623 272 280 320 207 238 242 566 572 294 470 629 575 417 619 608 293 550\n",
            " 593 578 460 501 690 334 340 490 201 517 438 472 460 416 627 442 383 238\n",
            " 629 471 290 379 228 580 682 408 465 489 428 319 205 501 650 616 382 596\n",
            " 307 314 219 451 310 339 406 622 524 280 296 615 243 675 674 395 592 679\n",
            " 474 339 665 240 610 590 664 204 600 395 391 596 279 237 387 311 661 387\n",
            " 245 385 531 419 209 572 585 548 331 381 492 270 553 530 329 605 622 246\n",
            " 330 586 346 504 260 287 275 500 206 316 473 322 396 235 247 265 359 687\n",
            " 358 285 249 513 443 286 221 435 403 255 671 404 220 636 382 449 230 263\n",
            " 685 620 578 340 253 201 384 391 300 644 653 326 282 260 549 399 474 288\n",
            " 460 352 330 690 467 459 636 368 319 440 395 521 400 509 211 405 566 560\n",
            " 312 526 423 698 321 212 227 434 482 677 232 364 366 635 386 464 681 329\n",
            " 295 576]\n"
          ],
          "name": "stdout"
        }
      ]
    },
    {
      "cell_type": "code",
      "metadata": {
        "colab": {
          "base_uri": "https://localhost:8080/"
        },
        "id": "2NfVJDsaRToa",
        "outputId": "d6e7b314-b015-4c4b-97f3-69204d3dc0c1"
      },
      "source": [
        "Grafiksuburban=cos(f,loc,tower,user,A)\r\n",
        "print(Grafiksuburban)"
      ],
      "execution_count": null,
      "outputs": [
        {
          "output_type": "stream",
          "text": [
            "[182.07834369 170.40445247 170.8127778  172.69373271 166.55773661\n",
            " 168.52349755 168.75827361 180.72673482 180.87527297 171.50004764\n",
            " 178.10864722 182.21335658 180.94895877 176.42327858 181.98761076\n",
            " 181.73503902 171.4520536  180.32280069 181.383158   181.02226113\n",
            " 177.8057057  179.00838319 183.51718353 173.29690536 173.54770554\n",
            " 178.69565872 166.14340564 179.45120905 177.1153733  178.16846148\n",
            " 177.8057057  176.38945806 182.16849591 177.24343089 175.22522671\n",
            " 168.52349755 182.21335658 178.1385861  171.30708246 175.07733835\n",
            " 167.91884517 181.0709183  183.35291068 176.11593029 177.95799083\n",
            " 178.66688192 176.79004158 172.6496443  166.42097595 179.00838319\n",
            " 182.6759642  181.91917547 175.18839993 181.45424093 172.10953069\n",
            " 172.42710827 167.35153746 177.52737362 172.24651301 173.50621438\n",
            " 176.04671031 182.05571519 179.64065218 170.8127778  171.59554792\n",
            " 181.89628962 168.81636127 183.20758343 183.18669946 175.65979807\n",
            " 181.35938376 183.29081107 178.22802283 173.50621438 182.99733718\n",
            " 168.6413747  181.78129928 181.31171455 182.97613892 166.35209446\n",
            " 181.54846361 175.65979807 175.51642546 181.45424093 170.76237975\n",
            " 168.46418699 175.37157855 172.29187935 182.91235208 175.37157855\n",
            " 168.93182288 175.2985927  179.8275813  176.49067697 166.69318225\n",
            " 180.87527297 181.19183095 180.27148464 173.16981063 175.15147661\n",
            " 178.75303655 170.30049452 180.39942592 179.80102853 173.08443923\n",
            " 181.66536252 182.05571519 168.98920071 173.12718961 181.21588943\n",
            " 173.79411831 179.09248038 169.7688753  171.1606038  170.55896485\n",
            " 178.98023885 166.48952225 172.516545   178.19827363 172.78149772\n",
            " 175.69541436 168.34481138 169.04634577 170.0371927  174.31366965\n",
            " 183.45580549 174.27437747 171.06209824 169.15994507 179.34180083\n",
            " 177.27526421 171.11143713 167.47959505 177.01856029 175.94223836\n",
            " 169.49534753 183.12386112 175.97714851 167.41571178 182.36925329\n",
            " 175.18839993 177.46476802 168.04186986 169.93047826 183.41473772\n",
            " 182.01034884 181.02226113 173.54770554 169.3844317  166.14340564\n",
            " 175.26195747 175.51642546 171.78462777 182.54533355 182.74082804\n",
            " 172.95540409 170.91303614 169.7688753  180.29716603 175.8017261\n",
            " 178.22802283 171.20959946 177.8057057  174.03629454 173.12718961\n",
            " 183.51718353 178.01844688 177.77505011 182.36925329 174.66245263\n",
            " 172.6496443  177.17954762 175.65979807 179.55977404 175.83698578\n",
            " 179.23153618 166.82733791 176.01197235 180.72673482 180.57661363\n",
            " 172.33710005 179.6943141  176.62451397 183.67956271 172.73768357\n",
            " 166.89393963 167.85692755 176.98614086 178.46378126 183.24925872\n",
            " 168.16382939 174.50850315 174.5856882  182.34708769 175.33513289\n",
            " 177.92766523 183.33224121 173.08443923 171.54787871 180.9734353 ]\n"
          ],
          "name": "stdout"
        }
      ]
    },
    {
      "cell_type": "code",
      "metadata": {
        "id": "zun8jrpHRVWJ"
      },
      "source": [
        "A_sorting=A[np.argsort(A)]\r\n",
        "suburban_sorting=Grafiksuburban[np.argsort(A)]"
      ],
      "execution_count": null,
      "outputs": []
    },
    {
      "cell_type": "code",
      "metadata": {
        "colab": {
          "base_uri": "https://localhost:8080/"
        },
        "id": "JrGRK0iSRXud",
        "outputId": "a1e58774-b1ca-46ac-dd57-88e29c0d2e63"
      },
      "source": [
        "f=1800 #MHz\r\n",
        "loc='open'\r\n",
        "tower=80 #m\r\n",
        "user=1.5 #m\r\n",
        "Dmin=200 #m\r\n",
        "Dmax=700 #m\r\n",
        "N=200 #titik\r\n",
        "B=np.random.randint(Dmin,Dmax,N)\r\n",
        "print(B)"
      ],
      "execution_count": null,
      "outputs": [
        {
          "output_type": "stream",
          "text": [
            "[525 257 365 309 237 507 486 465 376 279 527 228 423 647 418 694 610 535\n",
            " 365 374 602 623 618 629 515 637 571 238 484 661 685 663 409 567 653 369\n",
            " 414 259 232 313 246 541 617 393 513 293 527 453 528 508 311 457 631 472\n",
            " 668 505 457 266 425 606 425 681 271 427 509 425 442 610 215 515 558 551\n",
            " 447 217 243 679 549 508 367 344 311 661 414 480 671 645 335 674 415 322\n",
            " 372 467 471 275 426 683 446 647 345 480 656 215 581 391 297 461 285 394\n",
            " 622 586 457 401 343 405 350 304 272 629 515 639 235 591 402 505 599 388\n",
            " 410 239 368 275 571 571 631 572 685 271 555 257 522 420 258 330 380 277\n",
            " 557 673 438 471 336 630 651 515 547 648 593 532 349 280 669 387 437 474\n",
            " 649 384 595 408 508 442 389 617 381 234 422 316 291 515 352 475 624 642\n",
            " 600 268 552 571 374 642 494 570 450 613 359 503 580 263 229 661 302 362\n",
            " 532 262]\n"
          ],
          "name": "stdout"
        }
      ]
    },
    {
      "cell_type": "code",
      "metadata": {
        "colab": {
          "base_uri": "https://localhost:8080/"
        },
        "id": "2NHss0ZDRauk",
        "outputId": "8d5318ed-11e6-4362-ecd8-6525a2f8b0a2"
      },
      "source": [
        "Grafikopen=cos(f,loc,tower,user,B)\r\n",
        "print(Grafikopen)"
      ],
      "execution_count": null,
      "outputs": [
        {
          "output_type": "stream",
          "text": [
            "[180.06610836 170.00399648 174.9457482  172.59959974 168.86278665\n",
            " 179.57467814 178.97879677 178.3565905  175.36399381 171.16097942\n",
            " 180.11966826 168.31744483 177.02311363 183.00939997 176.85561775\n",
            " 183.99720676 182.17989895 180.33189431 174.9457482  175.28886703\n",
            " 181.99393931 182.47694335 182.36343558 182.61195624 179.79521082\n",
            " 182.78998373 181.24922479 168.92209721 178.92070911 183.31095174\n",
            " 183.81333738 183.35350838 176.54901281 181.15019986 183.1394277\n",
            " 175.0992782  176.72017211 170.11319266 168.56242905 172.78077571\n",
            " 169.38780037 180.48899152 182.34062386 175.98689383 179.74040049\n",
            " 171.85065326 180.11966826 177.98830187 180.14637203 179.60243428\n",
            " 172.69047901 178.11213772 182.65667449 178.56706114 183.45934086\n",
            " 179.51900124 178.11213772 170.48884793 177.08955827 182.087226\n",
            " 177.08955827 183.73084087 170.75116906 177.15569096 179.63013584\n",
            " 177.08955827 177.64203055 182.17989895 167.49047562 179.79521082\n",
            " 180.92481525 180.74698843 177.80048259 167.62090468 169.21496093\n",
            " 183.68941073 180.69576569 179.60243428 175.02272237 174.11105839\n",
            " 172.69047901 183.31095174 176.72017211 178.8038102  183.52246078\n",
            " 182.96578929 173.73761638 183.58529912 176.75415581 173.18009738\n",
            " 175.21333742 178.41704654 178.53718576 170.95756451 177.12266342\n",
            " 183.77214952 177.76893445 183.00939997 174.15194735 178.8038102\n",
            " 183.20399422 167.49047562 181.49378367 175.91502512 172.04165601\n",
            " 178.23489438 171.4606979  176.02269115 182.45431485 181.6144891\n",
            " 178.11213772 176.27075709 174.07005039 176.41057201 174.35463053\n",
            " 172.36980284 170.80305213 182.61195624 179.79521082 182.83414125\n",
            " 168.74341104 181.73416898 176.30584114 179.51900124 181.92356662\n",
            " 175.80652981 176.58341145 168.98115909 175.06105229 170.95756451\n",
            " 181.24922479 181.24922479 182.65667449 181.27387263 183.81333738\n",
            " 170.75116906 180.84887848 170.00399648 179.98538471 176.92285529\n",
            " 170.05870038 173.52578927 175.51305591 171.05963914 180.89954845\n",
            " 183.56438414 177.51397296 178.53718576 173.77960221 182.63433311\n",
            " 183.09621835 179.79521082 180.64435601 183.03115478 181.78175766\n",
            " 180.25268377 174.31432653 171.21137746 183.48041228 175.77017821\n",
            " 177.48177583 178.62662249 183.05287604 175.66055713 181.82918612\n",
            " 176.51452995 179.60243428 177.64203055 175.84278784 182.34062386\n",
            " 175.55007627 168.68334171 176.9897734  172.91514466 171.7541718\n",
            " 179.79521082 174.43489421 178.65630898 182.49953555 182.90011907\n",
            " 181.94706327 170.59436331 180.77253012 181.24922479 175.28886703\n",
            " 182.90011907 179.20878127 181.22453374 177.89470526 182.24900573\n",
            " 174.71226931 179.4631034  181.46951796 170.32907792 168.37909149\n",
            " 183.31095174 172.27682404 174.82949249 180.25268377 170.275416  ]\n"
          ],
          "name": "stdout"
        }
      ]
    },
    {
      "cell_type": "code",
      "metadata": {
        "id": "V4lOfbQeRbOO"
      },
      "source": [
        "B_sorting=B[np.argsort(B)]\r\n",
        "open_sorting=Grafikopen[np.argsort(B)]"
      ],
      "execution_count": null,
      "outputs": []
    },
    {
      "cell_type": "code",
      "metadata": {
        "colab": {
          "base_uri": "https://localhost:8080/",
          "height": 295
        },
        "id": "o9sfavqHRc7l",
        "outputId": "ec7b51a6-3cc3-444f-cdd9-10c9ca5e4213"
      },
      "source": [
        "plt.figure()\r\n",
        "plt.plot(D_sorting,Urban_sorting,'r', label='Urban')\r\n",
        "plt.plot(B_sorting,open_sorting,'g', label='Open')\r\n",
        "plt.plot(A_sorting,suburban_sorting,'b', label='Suburban')\r\n",
        "plt.legend()\r\n",
        "plt.title('FREKUENSI 1800 MHZ')\r\n",
        "plt.xlabel('Jarak (m)')\r\n",
        "plt.ylabel('Path Loss (dB)')\r\n",
        "plt.show()"
      ],
      "execution_count": null,
      "outputs": [
        {
          "output_type": "display_data",
          "data": {
            "image/png": "[encoded data removed]",
            "text/plain": [
              "<Figure size 432x288 with 1 Axes>"
            ]
          },
          "metadata": {
            "tags": [],
            "needs_background": "light"
          }
        }
      ]
    },
    {
      "cell_type": "code",
      "metadata": {
        "colab": {
          "base_uri": "https://localhost:8080/"
        },
        "id": "xS0IwpslRigk",
        "outputId": "b6b7bba1-9e2d-4b48-ff00-ca07c7888b2f"
      },
      "source": [
        "f=1800 #MHz\r\n",
        "loc='urban'\r\n",
        "tower=80 #m\r\n",
        "user=1.5 #m\r\n",
        "Dmin=200 #m\r\n",
        "Dmax=700 #m\r\n",
        "N=200 #titik\r\n",
        "P=np.random.randint(Dmin,Dmax,N)\r\n",
        "print(P)"
      ],
      "execution_count": null,
      "outputs": [
        {
          "output_type": "stream",
          "text": [
            "[525 680 354 289 396 378 507 640 505 235 243 549 620 249 508 219 658 430\n",
            " 385 340 375 606 400 395 655 278 429 317 519 520 579 434 612 413 298 445\n",
            " 265 356 271 436 341 284 637 233 370 230 657 699 344 538 451 665 221 441\n",
            " 473 596 534 402 292 392 514 245 595 423 550 407 594 313 685 420 636 495\n",
            " 428 280 246 513 454 542 572 477 500 390 577 525 428 285 625 259 386 451\n",
            " 473 329 424 583 648 666 627 418 480 385 593 422 329 281 519 294 564 675\n",
            " 262 256 327 682 248 539 468 670 444 498 688 413 382 576 209 431 592 232\n",
            " 324 481 699 424 681 458 246 362 355 607 247 501 456 307 638 363 365 405\n",
            " 649 608 676 639 263 470 509 470 266 638 296 641 379 460 661 383 540 461\n",
            " 467 579 453 666 493 285 380 411 612 592 359 488 631 275 659 661 463 674\n",
            " 467 342 520 641 445 372 286 391 367 326 487 258 450 228 566 559 225 491\n",
            " 346 343]\n"
          ],
          "name": "stdout"
        }
      ]
    },
    {
      "cell_type": "code",
      "metadata": {
        "colab": {
          "base_uri": "https://localhost:8080/"
        },
        "id": "FeMA-8gPRjFu",
        "outputId": "ec8baf5d-f0fc-4824-8ff5-e023513a9cbd"
      },
      "source": [
        "GrafikUrban1=cos(f,loc,tower,user,P)\r\n",
        "print(GrafikUrban1)"
      ],
      "execution_count": null,
      "outputs": [
        {
          "output_type": "stream",
          "text": [
            "[183.2350508  186.87908348 177.68364557 174.82596739 179.26295647\n",
            " 178.60766448 182.74362058 186.02511066 182.68794368 171.91235348\n",
            " 172.38390337 183.86470814 185.57789095 172.72748718 182.77137672\n",
            " 170.91907957 186.41581717 180.42325391 178.8661348  177.11524764\n",
            " 178.49542295 185.25616844 179.40452789 179.22734017 186.35144736\n",
            " 174.27934286 180.39045706 176.12859342 183.07313824 183.10025324\n",
            " 184.61415283 180.55368296 185.39495023 179.85504867 175.2579472\n",
            " 180.90625794 173.6047348  177.76300487 173.9201115  180.61844739\n",
            " 177.15661694 174.58012804 185.95892618 171.79195756 178.30634309\n",
            " 171.60941197 186.39439323 187.26727123 177.28000084 183.57960436\n",
            " 181.09491573 186.56487928 171.04713715 180.77906757 181.76581574\n",
            " 185.02178304 183.4744827  179.47478358 174.97143758 179.11994775\n",
            " 182.93677476 172.49936498 184.99812856 180.19205607 183.89034279\n",
            " 179.64890493 184.9744343  175.94971816 186.98227982 180.09179773\n",
            " 185.9367954  182.40620954 180.35758368 174.3803199  172.55674281\n",
            " 182.90934294 181.18830549 183.68394734 184.44281507 181.88443739\n",
            " 182.54778096 179.04789523 184.56541147 183.2350508  180.35758368\n",
            " 174.62964035 185.69103403 173.28213511 178.902675   181.09491573\n",
            " 181.76581574 176.65198134 180.22531757 184.71113247 186.20009722\n",
            " 186.58604568 185.73603802 180.02456019 181.97275265 178.8661348\n",
            " 184.95070011 180.15871585 176.65198134 174.43053827 183.07313824\n",
            " 175.06758974 184.24441408 186.77512553 173.44435845 173.11802175\n",
            " 176.56608938 186.92045278 172.67080204 183.60576266 181.61611999\n",
            " 186.67039466 180.87456785 182.49132302 187.04383667 179.85504867\n",
            " 178.75594203 184.5409774  170.26072435 180.45597456 184.92692586\n",
            " 171.7313715  176.43626138 182.00206845 187.26727123 180.22531757\n",
            " 186.89978332 181.31186977 172.55674281 177.99843493 177.72338111\n",
            " 185.2793939  172.61388787 182.5759253  181.25022312 175.67707279\n",
            " 185.98102224 178.03729354 178.11469065 179.57951445 186.22181849\n",
            " 185.30258113 186.79597859 186.0030837  173.49802037 181.67618932\n",
            " 182.79907828 181.67618932 173.65779037 185.98102224 175.16309002\n",
            " 186.04710322 178.64488045 181.37324781 186.47989418 178.79276882\n",
            " 183.63187246 181.40383683 181.58598899 184.61415283 181.15724431\n",
            " 186.58604568 182.34918016 174.62964035 178.68199836 179.78666874\n",
            " 185.39495023 184.92692586 177.88121175 182.20558832 185.82561694\n",
            " 174.12650695 186.43720858 186.47989418 181.4648163  186.75424156\n",
            " 181.58598899 177.19786511 183.10025324 186.04710322 180.90625794\n",
            " 178.38227987 174.67897923 179.08396756 178.19166482 176.5229462\n",
            " 182.17669346 173.22764283 181.06364771 171.48638728 184.29427692\n",
            " 184.11897926 171.29981187 182.29191895 177.36166041 177.23899284]\n"
          ],
          "name": "stdout"
        }
      ]
    },
    {
      "cell_type": "code",
      "metadata": {
        "id": "jlqv0JZlRkft"
      },
      "source": [
        "P_sorting=P[np.argsort(P)]\r\n",
        "Urban_sorting1=GrafikUrban1[np.argsort(P)]"
      ],
      "execution_count": null,
      "outputs": []
    },
    {
      "cell_type": "code",
      "metadata": {
        "colab": {
          "base_uri": "https://localhost:8080/"
        },
        "id": "6Sfnlh8tRoP8",
        "outputId": "f4e0a89d-cc7a-45ba-9005-78d60c795d68"
      },
      "source": [
        "f=900 #MHz\r\n",
        "loc='urban'\r\n",
        "tower=80 #m\r\n",
        "user=1.5 #m\r\n",
        "Dmin=200 #m\r\n",
        "Dmax=700 #m\r\n",
        "N=200 #titik\r\n",
        "K=np.random.randint(Dmin,Dmax,N)\r\n",
        "print(K)"
      ],
      "execution_count": null,
      "outputs": [
        {
          "output_type": "stream",
          "text": [
            "[520 242 417 230 357 423 473 556 499 261 625 694 550 450 534 555 211 504\n",
            " 524 379 629 621 407 241 386 584 644 344 649 457 279 483 582 576 226 288\n",
            " 323 479 588 226 419 671 646 418 532 297 313 296 379 418 592 334 564 212\n",
            " 529 246 344 400 473 619 468 666 616 433 646 368 545 535 599 226 464 349\n",
            " 654 268 378 647 316 309 289 324 679 590 361 637 676 313 661 560 563 451\n",
            " 490 531 373 616 456 459 236 517 502 620 635 496 225 536 607 350 392 590\n",
            " 250 653 434 285 571 345 292 374 223 590 485 502 400 501 478 509 275 509\n",
            " 222 320 604 488 606 639 678 415 346 451 259 531 261 548 427 341 399 409\n",
            " 326 255 650 591 292 621 321 666 520 266 482 595 207 345 210 299 209 420\n",
            " 641 689 401 485 367 391 493 413 310 509 570 245 350 240 612 297 552 269\n",
            " 284 465 504 613 551 676 579 340 420 634 417 320 342 557 497 595 693 609\n",
            " 203 376]\n"
          ],
          "name": "stdout"
        }
      ]
    },
    {
      "cell_type": "code",
      "metadata": {
        "colab": {
          "base_uri": "https://localhost:8080/"
        },
        "id": "1nQuihV7Ro_t",
        "outputId": "1fecae7b-f73e-4ee1-831c-341952363928"
      },
      "source": [
        "GrafikUrban2=cos(f,loc,tower,user,K)\r\n",
        "print(GrafikUrban2)"
      ],
      "execution_count": null,
      "outputs": [
        {
          "output_type": "stream",
          "text": [
            "[173.30659206 162.53215454 170.19715951 161.81575079 168.00885631\n",
            " 170.39839489 171.97215456 174.24951752 172.7259191  163.59683014\n",
            " 175.89737285 177.37248802 174.09668161 171.26998653 173.68082152\n",
            " 174.22415975 160.60121883 172.86636131 173.41453311 168.85121927\n",
            " 175.98723751 175.80693121 169.85524375 162.47382635 169.10901382\n",
            " 174.94161224 176.31921448 167.48633966 176.42815731 171.48741899\n",
            " 164.53626068 172.26685647 174.89328891 174.74731623 161.56861748\n",
            " 164.98348039 166.59905694 172.14971453 175.0377644  161.56861748\n",
            " 170.2645579  176.89774205 176.36289277 170.23089901 173.62796503\n",
            " 165.41693728 166.15605698 165.36942885 168.85121927 170.23089901\n",
            " 175.13326469 167.07078629 174.4507529  160.66782055 173.54830655\n",
            " 162.76308164 167.48633966 169.61086671 171.97215456 175.76149169\n",
            " 171.82245881 176.79238451 175.6930564  170.72752757 176.36289277\n",
            " 168.43633356 173.96803928 173.70717558 175.29884789 161.56861748\n",
            " 171.70154616 167.6896078  176.53626404 163.96964458 168.8140033\n",
            " 176.38468123 166.29042593 165.97488101 165.03230622 166.64260021\n",
            " 177.064692   175.08559548 168.16580765 176.165265   177.00231742\n",
            " 166.15605698 176.686233   174.35049456 174.42575514 171.30125455\n",
            " 172.46953965 173.60146223 168.62643412 175.6930564  171.45656194\n",
            " 171.54893104 162.17850657 173.22508998 172.81035234 175.78422977\n",
            " 176.12096862 172.6409767  161.50615069 173.73348041 175.48573272\n",
            " 167.72991179 169.32628658 175.08559548 162.99028394 176.51470897\n",
            " 170.76002179 164.83597917 174.62450606 167.52722862 165.1777764\n",
            " 168.6641483  161.38037988 175.08559548 172.32506415 172.81035234\n",
            " 169.61086671 172.78226412 172.1202762  173.00541711 164.33284578\n",
            " 173.00541711 161.31707084 166.46761364 175.41594115 172.41192714\n",
            " 175.46250726 176.20942252 177.04393115 170.12943708 167.56799924\n",
            " 171.30125455 163.48847393 173.60146223 163.59683014 174.04536557\n",
            " 170.53097223 167.36295577 169.57560702 169.92429407 166.72928502\n",
            " 163.26922845 176.44984513 175.10945025 165.1777764  175.80693121\n",
            " 166.5115645  176.79238451 173.30659206 163.8641292  172.23766219\n",
            " 175.20446739 160.33161754 167.52722862 160.53430071 165.51147614\n",
            " 160.46706318 170.29813655 176.25344205 177.27063481 169.64603836\n",
            " 172.32506415 168.39800364 169.29030638 172.55551898 170.06138749\n",
            " 166.02039393 173.00541711 174.59981501 162.70570381 167.72991179\n",
            " 162.41525563 175.60128905 165.41693728 174.14781139 164.02210735\n",
            " 164.78646686 171.73187176 172.86636131 175.624287   174.1222697\n",
            " 177.00231742 174.82049165 167.32158646 170.29813655 176.09876808\n",
            " 170.19715951 166.46761364 167.40420393 174.27482972 172.66934778\n",
            " 175.20446739 177.35217621 175.53206907 160.0567554  168.73927508]\n"
          ],
          "name": "stdout"
        }
      ]
    },
    {
      "cell_type": "code",
      "metadata": {
        "id": "Sh0gjP8hRqfl"
      },
      "source": [
        "K_sorting=K[np.argsort(K)]\r\n",
        "Urban_sorting2=GrafikUrban2[np.argsort(K)]"
      ],
      "execution_count": null,
      "outputs": []
    },
    {
      "cell_type": "code",
      "metadata": {
        "colab": {
          "base_uri": "https://localhost:8080/"
        },
        "id": "IEbapVbBRsMI",
        "outputId": "dec792f3-d795-4525-e3fd-ce249b09ec7e"
      },
      "source": [
        "f=700 #MHz\r\n",
        "loc='urban'\r\n",
        "tower=80 #m\r\n",
        "user=1.5 #m\r\n",
        "Dmin=200 #m\r\n",
        "Dmax=700 #m\r\n",
        "N=200 #titik\r\n",
        "R=np.random.randint(Dmin,Dmax,N)\r\n",
        "print(R)"
      ],
      "execution_count": null,
      "outputs": [
        {
          "output_type": "stream",
          "text": [
            "[230 476 619 630 666 354 223 517 373 247 479 399 528 586 581 248 692 350\n",
            " 637 533 307 252 633 677 264 483 684 319 332 515 432 307 437 482 424 531\n",
            " 207 692 282 445 615 679 485 335 410 543 615 357 448 445 615 669 656 226\n",
            " 533 386 412 348 555 642 215 621 370 645 419 363 297 399 327 365 653 559\n",
            " 272 587 306 383 593 639 212 505 291 289 439 412 373 253 690 601 411 505\n",
            " 529 315 506 643 563 238 503 306 381 690 481 386 642 292 401 570 608 410\n",
            " 317 320 231 244 638 617 240 660 440 377 254 446 463 675 497 472 665 545\n",
            " 250 465 233 634 386 501 600 284 612 329 368 522 568 493 293 591 256 543\n",
            " 456 465 273 269 399 638 377 675 448 614 609 499 584 352 511 453 532 240\n",
            " 616 666 200 317 317 509 357 209 487 537 391 689 255 414 422 411 579 512\n",
            " 535 263 396 206 690 259 472 274 340 654 421 515 249 329 584 352 201 458\n",
            " 612 312]\n"
          ],
          "name": "stdout"
        }
      ]
    },
    {
      "cell_type": "code",
      "metadata": {
        "colab": {
          "base_uri": "https://localhost:8080/"
        },
        "id": "4WgkO3p3UUhi",
        "outputId": "1de2e1a7-c46a-4696-eb17-04271fe11ad8"
      },
      "source": [
        "GrafikUrban3=cos(f,loc,tower,user,R)\r\n",
        "print(GrafikUrban3)"
      ],
      "execution_count": null,
      "outputs": [
        {
          "output_type": "stream",
          "text": [
            "[158.97035447 169.215818   172.91609537 173.16421806 173.94698819\n",
            " 165.04458808 158.53498356 170.37969366 165.7810378  159.97483038\n",
            " 169.30431821 166.73021071 170.67625698 172.14437405 172.02366862\n",
            " 160.03174455 174.48643876 164.88451548 173.31986868 170.80902175\n",
            " 163.0380153  160.25712916 173.23113618 174.17774333 160.91242115\n",
            " 169.42146015 174.32264345 163.57812891 164.14078769 170.32509577\n",
            " 167.8495619  163.0380153  168.01166078 169.39226587 167.58626007\n",
            " 170.75606591 157.48622122 174.48643876 161.84152075 168.26720045\n",
            " 172.82477423 174.21929568 169.47966783 164.26750133 167.1132964\n",
            " 171.07085527 172.82477423 165.16345999 168.36184517 168.26720045\n",
            " 172.82477423 174.01029723 173.73387917 158.72322116 170.80902175\n",
            " 166.26361751 167.1818427  164.80379183 171.37876343 173.43000402\n",
            " 158.02036057 172.96153489 165.6672856  173.49567424 167.41916158\n",
            " 165.39823605 162.57154096 166.73021071 163.92703188 165.47563315\n",
            " 173.66931265 171.47992176 161.33293708 172.16839151 162.9920569\n",
            " 166.15371132 172.31164261 173.3640262  157.82242424 170.04888619\n",
            " 162.28405675 162.1869099  168.07598161 167.1818427  165.7810378\n",
            " 160.31291631 174.44566814 172.50040574 167.14761125 170.04888619\n",
            " 170.70291023 163.40038223 170.07675215 173.45192813 171.58035882\n",
            " 159.45198216 169.99298835 162.9920569  166.07996122 174.44566814\n",
            " 169.36301095 166.26361751 173.43000402 162.33238008 166.80064204\n",
            " 171.75441869 172.66352363 167.1132964  163.48953593 163.62221732\n",
            " 159.03146623 159.80269499 173.34196474 172.87050881 159.56985931\n",
            " 173.81951005 168.10803223 165.93129243 160.36848339 168.2988194\n",
            " 168.82575881 174.13606804 169.82395147 169.09694609 173.92582179\n",
            " 171.12264296 160.14488762 168.88647544 159.15290006 173.25337176\n",
            " 166.26361751 169.9368678  172.47694822 161.94107054 172.75589273\n",
            " 164.01292384 165.59093724 170.51526966 171.70490638 169.71012266\n",
            " 162.38053821 172.26405393 160.47896425 171.07085527 168.61116562\n",
            " 168.88647544 161.38462975 161.17671103 166.73021071 173.34196474\n",
            " 165.93129243 174.13606804 168.36184517 172.80185113 172.68667275\n",
            " 169.88052278 172.09621592 164.96477916 170.21526101 168.51818682\n",
            " 170.78256872 159.56985931 172.84766008 173.94698819 157.00163455\n",
            " 163.48953593 163.48953593 170.16002079 165.16345999 157.62166686\n",
            " 169.53763597 170.91433991 166.44491007 174.4252385  160.42383214\n",
            " 167.25005706 167.51965835 167.14761125 171.97509533 170.24280009\n",
            " 170.86177926 160.85896287 166.62389897 157.41800686 174.44566814\n",
            " 160.64307761 169.09694609 161.43613342 164.47619015 173.69086772\n",
            " 167.48623903 170.32509577 160.08842968 164.01292384 172.09621592\n",
            " 164.96477916 157.07189025 168.67281227 172.75589273 163.26558467]\n"
          ],
          "name": "stdout"
        }
      ]
    },
    {
      "cell_type": "code",
      "metadata": {
        "id": "9q88qJ3ZUYQ6"
      },
      "source": [
        "R_sorting=R[np.argsort(R)]\r\n",
        "Urban_sorting3=GrafikUrban3[np.argsort(R)]"
      ],
      "execution_count": null,
      "outputs": []
    },
    {
      "cell_type": "code",
      "metadata": {
        "colab": {
          "base_uri": "https://localhost:8080/",
          "height": 295
        },
        "id": "1ivZiyBfUaNt",
        "outputId": "e716df42-b22f-453c-a699-8c520d2dda35"
      },
      "source": [
        "plt.figure()\r\n",
        "plt.plot(P_sorting,Urban_sorting1,'r', label='1800 Mhz')\r\n",
        "plt.plot(K_sorting,Urban_sorting2,'g', label='900 Mhz')\r\n",
        "plt.plot(R_sorting,Urban_sorting3,'b', label='700 Mhz')\r\n",
        "plt.legend()\r\n",
        "plt.title('Model Urban')\r\n",
        "plt.xlabel('Jarak (m)')\r\n",
        "plt.ylabel('Path Loss (dB)')\r\n",
        "plt.show()\r\n"
      ],
      "execution_count": null,
      "outputs": [
        {
          "output_type": "display_data",
          "data": {
            "image/png": "[encoded data removed]",
            "text/plain": [
              "<Figure size 432x288 with 1 Axes>"
            ]
          },
          "metadata": {
            "tags": [],
            "needs_background": "light"
          }
        }
      ]
    }
  ]
}