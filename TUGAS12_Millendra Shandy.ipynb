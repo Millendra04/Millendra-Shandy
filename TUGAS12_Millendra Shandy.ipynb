{
  "nbformat": 4,
  "nbformat_minor": 0,
  "metadata": {
    "colab": {
      "name": "TUGAS12.ipynb",
      "provenance": [],
      "collapsed_sections": [],
      "include_colab_link": true
    },
    "kernelspec": {
      "name": "python3",
      "display_name": "Python 3"
    }
  },
  "cells": [
    {
      "cell_type": "markdown",
      "metadata": {
        "id": "view-in-github",
        "colab_type": "text"
      },
      "source": [
        "<a href=\"https://colab.research.google.com/github/Millendra04/Millendra-Shandy/blob/main/TUGAS12_Millendra%20Shandy.ipynb\" target=\"_parent\"><img src=\"https://colab.research.google.com/assets/colab-badge.svg\" alt=\"Open In Colab\"/></a>"
      ]
    },
    {
      "cell_type": "code",
      "metadata": {
        "colab": {
          "base_uri": "https://localhost:8080/"
        },
        "id": "d6RjtO5QIeLk",
        "outputId": "073d0eb9-f794-4bce-894c-1eda77f3c4c1"
      },
      "source": [
        "from google.colab import drive\r\n",
        "drive.mount('/content/drive')"
      ],
      "execution_count": null,
      "outputs": [
        {
          "output_type": "stream",
          "text": [
            "Drive already mounted at /content/drive; to attempt to forcibly remount, call drive.mount(\"/content/drive\", force_remount=True).\n"
          ],
          "name": "stdout"
        }
      ]
    },
    {
      "cell_type": "code",
      "metadata": {
        "id": "FJGlZYHTIj5o"
      },
      "source": [
        "import numpy as np\r\n",
        "import numpy as Millendra\r\n"
      ],
      "execution_count": null,
      "outputs": []
    },
    {
      "cell_type": "code",
      "metadata": {
        "colab": {
          "base_uri": "https://localhost:8080/"
        },
        "id": "ssU21fk-Iomz",
        "outputId": "a10d34dd-2b43-4a0f-dd16-b9d16282ed26"
      },
      "source": [
        "y=10*np.log10(100)\r\n",
        "print(y)"
      ],
      "execution_count": null,
      "outputs": [
        {
          "output_type": "stream",
          "text": [
            "20.0\n"
          ],
          "name": "stdout"
        }
      ]
    },
    {
      "cell_type": "code",
      "metadata": {
        "id": "6CObB0mjIrSS"
      },
      "source": [
        "NTL = lambda x : 10*np.log10(x)"
      ],
      "execution_count": null,
      "outputs": []
    },
    {
      "cell_type": "code",
      "metadata": {
        "colab": {
          "base_uri": "https://localhost:8080/"
        },
        "id": "3_JLsPonIyFm",
        "outputId": "99a319ad-1075-46f3-c9f8-2ac1df4bb762"
      },
      "source": [
        "z=NTL(100)\r\n",
        "print(z)"
      ],
      "execution_count": null,
      "outputs": [
        {
          "output_type": "stream",
          "text": [
            "20.0\n"
          ],
          "name": "stdout"
        }
      ]
    },
    {
      "cell_type": "code",
      "metadata": {
        "id": "nXcg-HjtI2Ty"
      },
      "source": [
        "LTN = lambda x: 10**(x/10)"
      ],
      "execution_count": null,
      "outputs": []
    },
    {
      "cell_type": "code",
      "metadata": {
        "colab": {
          "base_uri": "https://localhost:8080/"
        },
        "id": "kE7M1FTFI40a",
        "outputId": "8c843da1-e567-484b-d824-98657a02cc22"
      },
      "source": [
        "y=LTN(3)\r\n",
        "print(y)"
      ],
      "execution_count": null,
      "outputs": [
        {
          "output_type": "stream",
          "text": [
            "1.9952623149688795\n"
          ],
          "name": "stdout"
        }
      ]
    },
    {
      "cell_type": "code",
      "metadata": {
        "colab": {
          "base_uri": "https://localhost:8080/"
        },
        "id": "IfLKPUhZI6en",
        "outputId": "dedf6939-4be9-45f7-b9a9-c6e50f5f693b"
      },
      "source": [
        "PL = -22.75 + (20*np.log10(500))+ (20*np.log10(1800000000))\r\n",
        "print(PL)"
      ],
      "execution_count": null,
      "outputs": [
        {
          "output_type": "stream",
          "text": [
            "216.3348501887865\n"
          ],
          "name": "stdout"
        }
      ]
    },
    {
      "cell_type": "code",
      "metadata": {
        "id": "nMAlWbebI8My"
      },
      "source": [
        "pathlossdb, pathlossnum = ploss(500, 1800000000)\r\n",
        "print (\"Hasil Pathloss dalam db =\",pathlossdb,\"db\")\r\n",
        "print (\"Hasil Pathloss dalam Numerik =\",pathlossnum,\"kali\")"
      ],
      "execution_count": null,
      "outputs": []
    },
    {
      "cell_type": "code",
      "metadata": {
        "id": "Z3dMrUmoJRhG"
      },
      "source": [
        "def Prx(d,f,Ptx):\r\n",
        "\r\n",
        "  #fungsi menghitung daya terima, input d(jarak(km))\r\n",
        "  #f(frekuensi(MHz)), dan Ptx(daya pancar (W))\r\n",
        "\r\n",
        "  #mengubah Ptx dari Watt ke dBW\r\n",
        "  Pdb = NTL(Ptx)\r\n",
        "\r\n",
        "  #menghitung pathloss\r\n",
        "  pldb= 32.5 + (20*np.log10(d)) + (20*np.log10(f))\r\n",
        "\r\n",
        "  #hitung prx dalam dB\r\n",
        "  prdb=Pdb-pldb\r\n",
        "\r\n",
        "  #ubah daya terima ke bentuk numerik\r\n",
        "  prx=LTN(prdb)\r\n",
        "\r\n",
        "  return prx,prdb"
      ],
      "execution_count": null,
      "outputs": []
    },
    {
      "cell_type": "code",
      "metadata": {
        "colab": {
          "base_uri": "https://localhost:8080/"
        },
        "id": "W2LmZRAgJT-q",
        "outputId": "c11c01f8-fab8-4eb0-e326-36be862fd641"
      },
      "source": [
        "PRX,PRDB=Prx(5,700,40)\r\n",
        "print(\"Daya Terima :\", PRX,\"W\")"
      ],
      "execution_count": null,
      "outputs": [
        {
          "output_type": "stream",
          "text": [
            "Daya Terima : 1.8362165720501197e-09 W\n"
          ],
          "name": "stdout"
        }
      ]
    },
    {
      "cell_type": "code",
      "metadata": {
        "id": "1ZWNYsz9JW3p"
      },
      "source": [
        "def noise(B):\r\n",
        "  #B adalah Bandwidth dalam hertz\r\n",
        "  N=1.38*(10**(-23))*290*B\r\n",
        "  return N"
      ],
      "execution_count": null,
      "outputs": []
    },
    {
      "cell_type": "code",
      "metadata": {
        "colab": {
          "base_uri": "https://localhost:8080/"
        },
        "id": "BnUOZjNbJY76",
        "outputId": "129dde64-e55d-44ad-f5b3-37d94f1d32cc"
      },
      "source": [
        "Noise=noise(180000)\r\n",
        "print(Noise)"
      ],
      "execution_count": null,
      "outputs": [
        {
          "output_type": "stream",
          "text": [
            "7.203599999999998e-16\n"
          ],
          "name": "stdout"
        }
      ]
    },
    {
      "cell_type": "code",
      "metadata": {
        "colab": {
          "base_uri": "https://localhost:8080/"
        },
        "id": "HuOa_iB0Ja7S",
        "outputId": "d8e98fa1-33be-466c-ee5c-bdc660b67d0f"
      },
      "source": [
        "SNR=PRX/Noise\r\n",
        "print(SNR)"
      ],
      "execution_count": null,
      "outputs": [
        {
          "output_type": "stream",
          "text": [
            "2549026.281373369\n"
          ],
          "name": "stdout"
        }
      ]
    },
    {
      "cell_type": "code",
      "metadata": {
        "colab": {
          "base_uri": "https://localhost:8080/"
        },
        "id": "z8sWWFMAJcjq",
        "outputId": "71394de5-e0ef-437d-c3b1-45979b2582bc"
      },
      "source": [
        "print (\"Millendra Shandy Pratama_1101183493\")\r\n",
        "def c1(c1_value) :\r\n",
        "  if c1_value in range(400,1500) :\r\n",
        "    return 69.55\r\n",
        "  elif c1_value in range(1500,2000) :\r\n",
        "    return 46.3\r\n",
        "  else : return 0"
      ],
      "execution_count": null,
      "outputs": [
        {
          "output_type": "stream",
          "text": [
            "Kartika Praty Dina Zaam_1101183404\n"
          ],
          "name": "stdout"
        }
      ]
    },
    {
      "cell_type": "code",
      "metadata": {
        "colab": {
          "base_uri": "https://localhost:8080/"
        },
        "id": "psXIW9z4Jero",
        "outputId": "17e259b2-2e95-409f-db19-3c1497439a2a"
      },
      "source": [
        "print (\"Millendra Shandy Pratama_1101183493\")\r\n",
        "def c2(c2_value):\r\n",
        "  if c2_value in range(400,1500):\r\n",
        "    return 26.16\r\n",
        "  elif c2_value in range(1500,2000):\r\n",
        "    return 33.9\r\n",
        "  else: return 0"
      ],
      "execution_count": null,
      "outputs": [
        {
          "output_type": "stream",
          "text": [
            "Kartika Praty Dina Zaam_1101183404\n"
          ],
          "name": "stdout"
        }
      ]
    },
    {
      "cell_type": "code",
      "metadata": {
        "colab": {
          "base_uri": "https://localhost:8080/"
        },
        "id": "CO5-lqgtJhPE",
        "outputId": "6b490592-e4ae-4100-d9db-325a94114169"
      },
      "source": [
        "print (\"Millendra Shandy Pratama_1101183493\")\r\n",
        "def ahr(fc,hr):\r\n",
        "  x=(1.1*millendra.log10(fc)-0.7)*hr-(1.56*millendra.log10(fc)-0.8)\r\n",
        "  return x"
      ],
      "execution_count": null,
      "outputs": [
        {
          "output_type": "stream",
          "text": [
            "Kartika Praty Dina Zaam_1101183404\n"
          ],
          "name": "stdout"
        }
      ]
    },
    {
      "cell_type": "code",
      "metadata": {
        "colab": {
          "base_uri": "https://localhost:8080/"
        },
        "id": "B16gqBt7Ji-0",
        "outputId": "5ee81ab7-7a42-4304-f2c6-ff1a5b390114"
      },
      "source": [
        "print (\"Millendra Shandy Pratama_1101183493\")\r\n",
        "#suburban\r\n",
        "SbN = lambda x: -2*millendra.log10(x/28)*millendra.log10(x/28)-5.4\r\n",
        "#open\r\n",
        "Op = lambda x: -4.78*millendra.log10(x)*millendra.log10(x)+18.33*millendra.log10(x)-40.94"
      ],
      "execution_count": null,
      "outputs": [
        {
          "output_type": "stream",
          "text": [
            "Kartika Praty Dina Zaam_1101183404\n"
          ],
          "name": "stdout"
        }
      ]
    },
    {
      "cell_type": "code",
      "metadata": {
        "colab": {
          "base_uri": "https://localhost:8080/"
        },
        "id": "-6LwcvXIJlL8",
        "outputId": "a184b1c0-0e06-4400-ceaa-ae7211470aa5"
      },
      "source": [
        "print (\"Millendra Shandy Pratama_1101183493\")\r\n",
        "def Ptl(fc,hT,hr,d,Cm):\r\n",
        "  #mencari nilai c1 dari frekuensi\r\n",
        "  C1=c1(fc)\r\n",
        "  #mencari nilai c2 dari frekuensi\r\n",
        "  C2=c2(fc)\r\n",
        "  #mencari nilai a(hR)\r\n",
        "  ahR=ahr(fc,hr)\r\n",
        "\r\n",
        "  #rumus cost 231 pathloss model\r\n",
        "  Lp=C1+C2*millendra.log10(fc)-13.83*millendra.log10(hT)-ahR+(44.9-6.55*millendra.log10(hT))*millendra.log10(d)+Cm\r\n",
        "  print(Lp)\r\n",
        "  return Lp"
      ],
      "execution_count": null,
      "outputs": [
        {
          "output_type": "stream",
          "text": [
            "Kartika Praty Dina Zaam_1101183404\n"
          ],
          "name": "stdout"
        }
      ]
    },
    {
      "cell_type": "code",
      "metadata": {
        "colab": {
          "base_uri": "https://localhost:8080/"
        },
        "id": "Zgcgr6NCJm8N",
        "outputId": "5096391b-04e5-4d72-dcea-ebf177bc5aaa"
      },
      "source": [
        "print (\"Millendra Shandy Pratama_1101183493\")\r\n",
        "fc=int(input(\"Frekuensi (150 s.d 2000): \"))#Mhz 150 s.d 2000\r\n",
        "hT=int(input(\"Tinggi Antena Pengirim (30 s.d 200): \"))#meter 30 s.d 200\r\n",
        "hr=int(input(\"Tinggi Antena Penerima (1 s.d 30): \"))#meter 1 s.d 30 \r\n",
        "d=int(input(\"Jarak : \"))#Km\r\n",
        "# 1=urban   2=suburban    3=open\r\n",
        "area=int(input(\"Masukkan Area (1=Urban || 2=Suburban || 3=Open) : \"))    \r\n",
        "\r\n",
        "#mendapatkan nilai Cm berdasarkan area\r\n",
        "if area==1:\r\n",
        "  Cm=0\r\n",
        "elif area==2:\r\n",
        "  Cm=SbN(fc)\r\n",
        "elif area==3:\r\n",
        "  Cm=Op(fc)\r\n",
        "else: print(\"Tidak Ada Pilihan\")\r\n",
        "\r\n",
        "#menghitung pathloss\r\n",
        "Lp=Ptl(fc, hT, hr, d, Cm)\r\n",
        "print(\"Nilai Pathloss dalam dB =\", Lp,\"dB\")"
      ],
      "execution_count": null,
      "outputs": [
        {
          "output_type": "stream",
          "text": [
            "Kartika Praty Dina Zaam_1101183404\n",
            "Frekuensi (150 s.d 2000): 150\n",
            "Tinggi Antena Pengirim (30 s.d 200): 100\n",
            "Tinggi Antena Penerima (1 s.d 30): 25\n",
            "Jarak : 300\n",
            "Masukkan Area (1=Urban || 2=Suburban || 3=Open) : 2\n",
            "4.901961339251357\n",
            "Nilai Pathloss dalam dB = 4.901961339251357 dB\n"
          ],
          "name": "stdout"
        }
      ]
    },
    {
      "cell_type": "code",
      "metadata": {
        "id": "0j2RT1IRJo2O"
      },
      "source": [
        ""
      ],
      "execution_count": null,
      "outputs": []
    }
  ]
}